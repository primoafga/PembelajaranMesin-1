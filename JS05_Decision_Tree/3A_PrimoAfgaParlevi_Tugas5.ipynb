{
 "cells": [
  {
   "cell_type": "code",
   "execution_count": 16,
   "metadata": {},
   "outputs": [
    {
     "data": {
      "text/html": [
       "<div>\n",
       "<style scoped>\n",
       "    .dataframe tbody tr th:only-of-type {\n",
       "        vertical-align: middle;\n",
       "    }\n",
       "\n",
       "    .dataframe tbody tr th {\n",
       "        vertical-align: top;\n",
       "    }\n",
       "\n",
       "    .dataframe thead th {\n",
       "        text-align: right;\n",
       "    }\n",
       "</style>\n",
       "<table border=\"1\" class=\"dataframe\">\n",
       "  <thead>\n",
       "    <tr style=\"text-align: right;\">\n",
       "      <th></th>\n",
       "      <th>class</th>\n",
       "      <th>cap-shape</th>\n",
       "      <th>cap-surface</th>\n",
       "      <th>cap-color</th>\n",
       "      <th>bruises</th>\n",
       "      <th>odor</th>\n",
       "      <th>gill-attachment</th>\n",
       "      <th>gill-spacing</th>\n",
       "      <th>gill-size</th>\n",
       "      <th>gill-color</th>\n",
       "      <th>...</th>\n",
       "      <th>stalk-surface-below-ring</th>\n",
       "      <th>stalk-color-above-ring</th>\n",
       "      <th>stalk-color-below-ring</th>\n",
       "      <th>veil-type</th>\n",
       "      <th>veil-color</th>\n",
       "      <th>ring-number</th>\n",
       "      <th>ring-type</th>\n",
       "      <th>spore-print-color</th>\n",
       "      <th>population</th>\n",
       "      <th>habitat</th>\n",
       "    </tr>\n",
       "  </thead>\n",
       "  <tbody>\n",
       "    <tr>\n",
       "      <th>0</th>\n",
       "      <td>p</td>\n",
       "      <td>x</td>\n",
       "      <td>s</td>\n",
       "      <td>n</td>\n",
       "      <td>t</td>\n",
       "      <td>p</td>\n",
       "      <td>f</td>\n",
       "      <td>c</td>\n",
       "      <td>n</td>\n",
       "      <td>k</td>\n",
       "      <td>...</td>\n",
       "      <td>s</td>\n",
       "      <td>w</td>\n",
       "      <td>w</td>\n",
       "      <td>p</td>\n",
       "      <td>w</td>\n",
       "      <td>o</td>\n",
       "      <td>p</td>\n",
       "      <td>k</td>\n",
       "      <td>s</td>\n",
       "      <td>u</td>\n",
       "    </tr>\n",
       "    <tr>\n",
       "      <th>1</th>\n",
       "      <td>e</td>\n",
       "      <td>x</td>\n",
       "      <td>s</td>\n",
       "      <td>y</td>\n",
       "      <td>t</td>\n",
       "      <td>a</td>\n",
       "      <td>f</td>\n",
       "      <td>c</td>\n",
       "      <td>b</td>\n",
       "      <td>k</td>\n",
       "      <td>...</td>\n",
       "      <td>s</td>\n",
       "      <td>w</td>\n",
       "      <td>w</td>\n",
       "      <td>p</td>\n",
       "      <td>w</td>\n",
       "      <td>o</td>\n",
       "      <td>p</td>\n",
       "      <td>n</td>\n",
       "      <td>n</td>\n",
       "      <td>g</td>\n",
       "    </tr>\n",
       "    <tr>\n",
       "      <th>2</th>\n",
       "      <td>e</td>\n",
       "      <td>b</td>\n",
       "      <td>s</td>\n",
       "      <td>w</td>\n",
       "      <td>t</td>\n",
       "      <td>l</td>\n",
       "      <td>f</td>\n",
       "      <td>c</td>\n",
       "      <td>b</td>\n",
       "      <td>n</td>\n",
       "      <td>...</td>\n",
       "      <td>s</td>\n",
       "      <td>w</td>\n",
       "      <td>w</td>\n",
       "      <td>p</td>\n",
       "      <td>w</td>\n",
       "      <td>o</td>\n",
       "      <td>p</td>\n",
       "      <td>n</td>\n",
       "      <td>n</td>\n",
       "      <td>m</td>\n",
       "    </tr>\n",
       "    <tr>\n",
       "      <th>3</th>\n",
       "      <td>p</td>\n",
       "      <td>x</td>\n",
       "      <td>y</td>\n",
       "      <td>w</td>\n",
       "      <td>t</td>\n",
       "      <td>p</td>\n",
       "      <td>f</td>\n",
       "      <td>c</td>\n",
       "      <td>n</td>\n",
       "      <td>n</td>\n",
       "      <td>...</td>\n",
       "      <td>s</td>\n",
       "      <td>w</td>\n",
       "      <td>w</td>\n",
       "      <td>p</td>\n",
       "      <td>w</td>\n",
       "      <td>o</td>\n",
       "      <td>p</td>\n",
       "      <td>k</td>\n",
       "      <td>s</td>\n",
       "      <td>u</td>\n",
       "    </tr>\n",
       "    <tr>\n",
       "      <th>4</th>\n",
       "      <td>e</td>\n",
       "      <td>x</td>\n",
       "      <td>s</td>\n",
       "      <td>g</td>\n",
       "      <td>f</td>\n",
       "      <td>n</td>\n",
       "      <td>f</td>\n",
       "      <td>w</td>\n",
       "      <td>b</td>\n",
       "      <td>k</td>\n",
       "      <td>...</td>\n",
       "      <td>s</td>\n",
       "      <td>w</td>\n",
       "      <td>w</td>\n",
       "      <td>p</td>\n",
       "      <td>w</td>\n",
       "      <td>o</td>\n",
       "      <td>e</td>\n",
       "      <td>n</td>\n",
       "      <td>a</td>\n",
       "      <td>g</td>\n",
       "    </tr>\n",
       "  </tbody>\n",
       "</table>\n",
       "<p>5 rows × 23 columns</p>\n",
       "</div>"
      ],
      "text/plain": [
       "  class cap-shape cap-surface cap-color bruises odor gill-attachment  \\\n",
       "0     p         x           s         n       t    p               f   \n",
       "1     e         x           s         y       t    a               f   \n",
       "2     e         b           s         w       t    l               f   \n",
       "3     p         x           y         w       t    p               f   \n",
       "4     e         x           s         g       f    n               f   \n",
       "\n",
       "  gill-spacing gill-size gill-color  ... stalk-surface-below-ring  \\\n",
       "0            c         n          k  ...                        s   \n",
       "1            c         b          k  ...                        s   \n",
       "2            c         b          n  ...                        s   \n",
       "3            c         n          n  ...                        s   \n",
       "4            w         b          k  ...                        s   \n",
       "\n",
       "  stalk-color-above-ring stalk-color-below-ring veil-type veil-color  \\\n",
       "0                      w                      w         p          w   \n",
       "1                      w                      w         p          w   \n",
       "2                      w                      w         p          w   \n",
       "3                      w                      w         p          w   \n",
       "4                      w                      w         p          w   \n",
       "\n",
       "  ring-number ring-type spore-print-color population habitat  \n",
       "0           o         p                 k          s       u  \n",
       "1           o         p                 n          n       g  \n",
       "2           o         p                 n          n       m  \n",
       "3           o         p                 k          s       u  \n",
       "4           o         e                 n          a       g  \n",
       "\n",
       "[5 rows x 23 columns]"
      ]
     },
     "execution_count": 16,
     "metadata": {},
     "output_type": "execute_result"
    }
   ],
   "source": [
    "import numpy as np\n",
    "import pandas as pd\n",
    "import matplotlib.pyplot as plt\n",
    "import seaborn as sns\n",
    "\n",
    "from sklearn.preprocessing import LabelEncoder\n",
    "from sklearn.preprocessing import StandardScaler\n",
    "from sklearn.model_selection import train_test_split\n",
    "\n",
    "data = pd.read_csv(\"dataset/mushrooms.csv\")\n",
    "data.head()"
   ]
  },
  {
   "cell_type": "code",
   "execution_count": 17,
   "metadata": {},
   "outputs": [
    {
     "name": "stdout",
     "output_type": "stream",
     "text": [
      "[{0: 'e', 1: 'p'}]\n",
      "[{0: 'e', 1: 'p'}, {0: 'b', 1: 'c', 2: 'f', 3: 'k', 4: 's', 5: 'x'}]\n",
      "[{0: 'e', 1: 'p'}, {0: 'b', 1: 'c', 2: 'f', 3: 'k', 4: 's', 5: 'x'}, {0: 'f', 1: 'g', 2: 's', 3: 'y'}]\n",
      "[{0: 'e', 1: 'p'}, {0: 'b', 1: 'c', 2: 'f', 3: 'k', 4: 's', 5: 'x'}, {0: 'f', 1: 'g', 2: 's', 3: 'y'}, {0: 'b', 1: 'c', 2: 'e', 3: 'g', 4: 'n', 5: 'p', 6: 'r', 7: 'u', 8: 'w', 9: 'y'}]\n",
      "[{0: 'e', 1: 'p'}, {0: 'b', 1: 'c', 2: 'f', 3: 'k', 4: 's', 5: 'x'}, {0: 'f', 1: 'g', 2: 's', 3: 'y'}, {0: 'b', 1: 'c', 2: 'e', 3: 'g', 4: 'n', 5: 'p', 6: 'r', 7: 'u', 8: 'w', 9: 'y'}, {0: 'f', 1: 't'}]\n",
      "[{0: 'e', 1: 'p'}, {0: 'b', 1: 'c', 2: 'f', 3: 'k', 4: 's', 5: 'x'}, {0: 'f', 1: 'g', 2: 's', 3: 'y'}, {0: 'b', 1: 'c', 2: 'e', 3: 'g', 4: 'n', 5: 'p', 6: 'r', 7: 'u', 8: 'w', 9: 'y'}, {0: 'f', 1: 't'}, {0: 'a', 1: 'c', 2: 'f', 3: 'l', 4: 'm', 5: 'n', 6: 'p', 7: 's', 8: 'y'}]\n",
      "[{0: 'e', 1: 'p'}, {0: 'b', 1: 'c', 2: 'f', 3: 'k', 4: 's', 5: 'x'}, {0: 'f', 1: 'g', 2: 's', 3: 'y'}, {0: 'b', 1: 'c', 2: 'e', 3: 'g', 4: 'n', 5: 'p', 6: 'r', 7: 'u', 8: 'w', 9: 'y'}, {0: 'f', 1: 't'}, {0: 'a', 1: 'c', 2: 'f', 3: 'l', 4: 'm', 5: 'n', 6: 'p', 7: 's', 8: 'y'}, {0: 'a', 1: 'f'}]\n",
      "[{0: 'e', 1: 'p'}, {0: 'b', 1: 'c', 2: 'f', 3: 'k', 4: 's', 5: 'x'}, {0: 'f', 1: 'g', 2: 's', 3: 'y'}, {0: 'b', 1: 'c', 2: 'e', 3: 'g', 4: 'n', 5: 'p', 6: 'r', 7: 'u', 8: 'w', 9: 'y'}, {0: 'f', 1: 't'}, {0: 'a', 1: 'c', 2: 'f', 3: 'l', 4: 'm', 5: 'n', 6: 'p', 7: 's', 8: 'y'}, {0: 'a', 1: 'f'}, {0: 'c', 1: 'w'}]\n",
      "[{0: 'e', 1: 'p'}, {0: 'b', 1: 'c', 2: 'f', 3: 'k', 4: 's', 5: 'x'}, {0: 'f', 1: 'g', 2: 's', 3: 'y'}, {0: 'b', 1: 'c', 2: 'e', 3: 'g', 4: 'n', 5: 'p', 6: 'r', 7: 'u', 8: 'w', 9: 'y'}, {0: 'f', 1: 't'}, {0: 'a', 1: 'c', 2: 'f', 3: 'l', 4: 'm', 5: 'n', 6: 'p', 7: 's', 8: 'y'}, {0: 'a', 1: 'f'}, {0: 'c', 1: 'w'}, {0: 'b', 1: 'n'}]\n",
      "[{0: 'e', 1: 'p'}, {0: 'b', 1: 'c', 2: 'f', 3: 'k', 4: 's', 5: 'x'}, {0: 'f', 1: 'g', 2: 's', 3: 'y'}, {0: 'b', 1: 'c', 2: 'e', 3: 'g', 4: 'n', 5: 'p', 6: 'r', 7: 'u', 8: 'w', 9: 'y'}, {0: 'f', 1: 't'}, {0: 'a', 1: 'c', 2: 'f', 3: 'l', 4: 'm', 5: 'n', 6: 'p', 7: 's', 8: 'y'}, {0: 'a', 1: 'f'}, {0: 'c', 1: 'w'}, {0: 'b', 1: 'n'}, {0: 'b', 1: 'e', 2: 'g', 3: 'h', 4: 'k', 5: 'n', 6: 'o', 7: 'p', 8: 'r', 9: 'u', 10: 'w', 11: 'y'}]\n",
      "[{0: 'e', 1: 'p'}, {0: 'b', 1: 'c', 2: 'f', 3: 'k', 4: 's', 5: 'x'}, {0: 'f', 1: 'g', 2: 's', 3: 'y'}, {0: 'b', 1: 'c', 2: 'e', 3: 'g', 4: 'n', 5: 'p', 6: 'r', 7: 'u', 8: 'w', 9: 'y'}, {0: 'f', 1: 't'}, {0: 'a', 1: 'c', 2: 'f', 3: 'l', 4: 'm', 5: 'n', 6: 'p', 7: 's', 8: 'y'}, {0: 'a', 1: 'f'}, {0: 'c', 1: 'w'}, {0: 'b', 1: 'n'}, {0: 'b', 1: 'e', 2: 'g', 3: 'h', 4: 'k', 5: 'n', 6: 'o', 7: 'p', 8: 'r', 9: 'u', 10: 'w', 11: 'y'}, {0: 'e', 1: 't'}]\n",
      "[{0: 'e', 1: 'p'}, {0: 'b', 1: 'c', 2: 'f', 3: 'k', 4: 's', 5: 'x'}, {0: 'f', 1: 'g', 2: 's', 3: 'y'}, {0: 'b', 1: 'c', 2: 'e', 3: 'g', 4: 'n', 5: 'p', 6: 'r', 7: 'u', 8: 'w', 9: 'y'}, {0: 'f', 1: 't'}, {0: 'a', 1: 'c', 2: 'f', 3: 'l', 4: 'm', 5: 'n', 6: 'p', 7: 's', 8: 'y'}, {0: 'a', 1: 'f'}, {0: 'c', 1: 'w'}, {0: 'b', 1: 'n'}, {0: 'b', 1: 'e', 2: 'g', 3: 'h', 4: 'k', 5: 'n', 6: 'o', 7: 'p', 8: 'r', 9: 'u', 10: 'w', 11: 'y'}, {0: 'e', 1: 't'}, {0: '?', 1: 'b', 2: 'c', 3: 'e', 4: 'r'}]\n",
      "[{0: 'e', 1: 'p'}, {0: 'b', 1: 'c', 2: 'f', 3: 'k', 4: 's', 5: 'x'}, {0: 'f', 1: 'g', 2: 's', 3: 'y'}, {0: 'b', 1: 'c', 2: 'e', 3: 'g', 4: 'n', 5: 'p', 6: 'r', 7: 'u', 8: 'w', 9: 'y'}, {0: 'f', 1: 't'}, {0: 'a', 1: 'c', 2: 'f', 3: 'l', 4: 'm', 5: 'n', 6: 'p', 7: 's', 8: 'y'}, {0: 'a', 1: 'f'}, {0: 'c', 1: 'w'}, {0: 'b', 1: 'n'}, {0: 'b', 1: 'e', 2: 'g', 3: 'h', 4: 'k', 5: 'n', 6: 'o', 7: 'p', 8: 'r', 9: 'u', 10: 'w', 11: 'y'}, {0: 'e', 1: 't'}, {0: '?', 1: 'b', 2: 'c', 3: 'e', 4: 'r'}, {0: 'f', 1: 'k', 2: 's', 3: 'y'}]\n",
      "[{0: 'e', 1: 'p'}, {0: 'b', 1: 'c', 2: 'f', 3: 'k', 4: 's', 5: 'x'}, {0: 'f', 1: 'g', 2: 's', 3: 'y'}, {0: 'b', 1: 'c', 2: 'e', 3: 'g', 4: 'n', 5: 'p', 6: 'r', 7: 'u', 8: 'w', 9: 'y'}, {0: 'f', 1: 't'}, {0: 'a', 1: 'c', 2: 'f', 3: 'l', 4: 'm', 5: 'n', 6: 'p', 7: 's', 8: 'y'}, {0: 'a', 1: 'f'}, {0: 'c', 1: 'w'}, {0: 'b', 1: 'n'}, {0: 'b', 1: 'e', 2: 'g', 3: 'h', 4: 'k', 5: 'n', 6: 'o', 7: 'p', 8: 'r', 9: 'u', 10: 'w', 11: 'y'}, {0: 'e', 1: 't'}, {0: '?', 1: 'b', 2: 'c', 3: 'e', 4: 'r'}, {0: 'f', 1: 'k', 2: 's', 3: 'y'}, {0: 'f', 1: 'k', 2: 's', 3: 'y'}]\n",
      "[{0: 'e', 1: 'p'}, {0: 'b', 1: 'c', 2: 'f', 3: 'k', 4: 's', 5: 'x'}, {0: 'f', 1: 'g', 2: 's', 3: 'y'}, {0: 'b', 1: 'c', 2: 'e', 3: 'g', 4: 'n', 5: 'p', 6: 'r', 7: 'u', 8: 'w', 9: 'y'}, {0: 'f', 1: 't'}, {0: 'a', 1: 'c', 2: 'f', 3: 'l', 4: 'm', 5: 'n', 6: 'p', 7: 's', 8: 'y'}, {0: 'a', 1: 'f'}, {0: 'c', 1: 'w'}, {0: 'b', 1: 'n'}, {0: 'b', 1: 'e', 2: 'g', 3: 'h', 4: 'k', 5: 'n', 6: 'o', 7: 'p', 8: 'r', 9: 'u', 10: 'w', 11: 'y'}, {0: 'e', 1: 't'}, {0: '?', 1: 'b', 2: 'c', 3: 'e', 4: 'r'}, {0: 'f', 1: 'k', 2: 's', 3: 'y'}, {0: 'f', 1: 'k', 2: 's', 3: 'y'}, {0: 'b', 1: 'c', 2: 'e', 3: 'g', 4: 'n', 5: 'o', 6: 'p', 7: 'w', 8: 'y'}]\n",
      "[{0: 'e', 1: 'p'}, {0: 'b', 1: 'c', 2: 'f', 3: 'k', 4: 's', 5: 'x'}, {0: 'f', 1: 'g', 2: 's', 3: 'y'}, {0: 'b', 1: 'c', 2: 'e', 3: 'g', 4: 'n', 5: 'p', 6: 'r', 7: 'u', 8: 'w', 9: 'y'}, {0: 'f', 1: 't'}, {0: 'a', 1: 'c', 2: 'f', 3: 'l', 4: 'm', 5: 'n', 6: 'p', 7: 's', 8: 'y'}, {0: 'a', 1: 'f'}, {0: 'c', 1: 'w'}, {0: 'b', 1: 'n'}, {0: 'b', 1: 'e', 2: 'g', 3: 'h', 4: 'k', 5: 'n', 6: 'o', 7: 'p', 8: 'r', 9: 'u', 10: 'w', 11: 'y'}, {0: 'e', 1: 't'}, {0: '?', 1: 'b', 2: 'c', 3: 'e', 4: 'r'}, {0: 'f', 1: 'k', 2: 's', 3: 'y'}, {0: 'f', 1: 'k', 2: 's', 3: 'y'}, {0: 'b', 1: 'c', 2: 'e', 3: 'g', 4: 'n', 5: 'o', 6: 'p', 7: 'w', 8: 'y'}, {0: 'b', 1: 'c', 2: 'e', 3: 'g', 4: 'n', 5: 'o', 6: 'p', 7: 'w', 8: 'y'}]\n",
      "[{0: 'e', 1: 'p'}, {0: 'b', 1: 'c', 2: 'f', 3: 'k', 4: 's', 5: 'x'}, {0: 'f', 1: 'g', 2: 's', 3: 'y'}, {0: 'b', 1: 'c', 2: 'e', 3: 'g', 4: 'n', 5: 'p', 6: 'r', 7: 'u', 8: 'w', 9: 'y'}, {0: 'f', 1: 't'}, {0: 'a', 1: 'c', 2: 'f', 3: 'l', 4: 'm', 5: 'n', 6: 'p', 7: 's', 8: 'y'}, {0: 'a', 1: 'f'}, {0: 'c', 1: 'w'}, {0: 'b', 1: 'n'}, {0: 'b', 1: 'e', 2: 'g', 3: 'h', 4: 'k', 5: 'n', 6: 'o', 7: 'p', 8: 'r', 9: 'u', 10: 'w', 11: 'y'}, {0: 'e', 1: 't'}, {0: '?', 1: 'b', 2: 'c', 3: 'e', 4: 'r'}, {0: 'f', 1: 'k', 2: 's', 3: 'y'}, {0: 'f', 1: 'k', 2: 's', 3: 'y'}, {0: 'b', 1: 'c', 2: 'e', 3: 'g', 4: 'n', 5: 'o', 6: 'p', 7: 'w', 8: 'y'}, {0: 'b', 1: 'c', 2: 'e', 3: 'g', 4: 'n', 5: 'o', 6: 'p', 7: 'w', 8: 'y'}, {0: 'p'}]\n",
      "[{0: 'e', 1: 'p'}, {0: 'b', 1: 'c', 2: 'f', 3: 'k', 4: 's', 5: 'x'}, {0: 'f', 1: 'g', 2: 's', 3: 'y'}, {0: 'b', 1: 'c', 2: 'e', 3: 'g', 4: 'n', 5: 'p', 6: 'r', 7: 'u', 8: 'w', 9: 'y'}, {0: 'f', 1: 't'}, {0: 'a', 1: 'c', 2: 'f', 3: 'l', 4: 'm', 5: 'n', 6: 'p', 7: 's', 8: 'y'}, {0: 'a', 1: 'f'}, {0: 'c', 1: 'w'}, {0: 'b', 1: 'n'}, {0: 'b', 1: 'e', 2: 'g', 3: 'h', 4: 'k', 5: 'n', 6: 'o', 7: 'p', 8: 'r', 9: 'u', 10: 'w', 11: 'y'}, {0: 'e', 1: 't'}, {0: '?', 1: 'b', 2: 'c', 3: 'e', 4: 'r'}, {0: 'f', 1: 'k', 2: 's', 3: 'y'}, {0: 'f', 1: 'k', 2: 's', 3: 'y'}, {0: 'b', 1: 'c', 2: 'e', 3: 'g', 4: 'n', 5: 'o', 6: 'p', 7: 'w', 8: 'y'}, {0: 'b', 1: 'c', 2: 'e', 3: 'g', 4: 'n', 5: 'o', 6: 'p', 7: 'w', 8: 'y'}, {0: 'p'}, {0: 'n', 1: 'o', 2: 'w', 3: 'y'}]\n",
      "[{0: 'e', 1: 'p'}, {0: 'b', 1: 'c', 2: 'f', 3: 'k', 4: 's', 5: 'x'}, {0: 'f', 1: 'g', 2: 's', 3: 'y'}, {0: 'b', 1: 'c', 2: 'e', 3: 'g', 4: 'n', 5: 'p', 6: 'r', 7: 'u', 8: 'w', 9: 'y'}, {0: 'f', 1: 't'}, {0: 'a', 1: 'c', 2: 'f', 3: 'l', 4: 'm', 5: 'n', 6: 'p', 7: 's', 8: 'y'}, {0: 'a', 1: 'f'}, {0: 'c', 1: 'w'}, {0: 'b', 1: 'n'}, {0: 'b', 1: 'e', 2: 'g', 3: 'h', 4: 'k', 5: 'n', 6: 'o', 7: 'p', 8: 'r', 9: 'u', 10: 'w', 11: 'y'}, {0: 'e', 1: 't'}, {0: '?', 1: 'b', 2: 'c', 3: 'e', 4: 'r'}, {0: 'f', 1: 'k', 2: 's', 3: 'y'}, {0: 'f', 1: 'k', 2: 's', 3: 'y'}, {0: 'b', 1: 'c', 2: 'e', 3: 'g', 4: 'n', 5: 'o', 6: 'p', 7: 'w', 8: 'y'}, {0: 'b', 1: 'c', 2: 'e', 3: 'g', 4: 'n', 5: 'o', 6: 'p', 7: 'w', 8: 'y'}, {0: 'p'}, {0: 'n', 1: 'o', 2: 'w', 3: 'y'}, {0: 'n', 1: 'o', 2: 't'}]\n",
      "[{0: 'e', 1: 'p'}, {0: 'b', 1: 'c', 2: 'f', 3: 'k', 4: 's', 5: 'x'}, {0: 'f', 1: 'g', 2: 's', 3: 'y'}, {0: 'b', 1: 'c', 2: 'e', 3: 'g', 4: 'n', 5: 'p', 6: 'r', 7: 'u', 8: 'w', 9: 'y'}, {0: 'f', 1: 't'}, {0: 'a', 1: 'c', 2: 'f', 3: 'l', 4: 'm', 5: 'n', 6: 'p', 7: 's', 8: 'y'}, {0: 'a', 1: 'f'}, {0: 'c', 1: 'w'}, {0: 'b', 1: 'n'}, {0: 'b', 1: 'e', 2: 'g', 3: 'h', 4: 'k', 5: 'n', 6: 'o', 7: 'p', 8: 'r', 9: 'u', 10: 'w', 11: 'y'}, {0: 'e', 1: 't'}, {0: '?', 1: 'b', 2: 'c', 3: 'e', 4: 'r'}, {0: 'f', 1: 'k', 2: 's', 3: 'y'}, {0: 'f', 1: 'k', 2: 's', 3: 'y'}, {0: 'b', 1: 'c', 2: 'e', 3: 'g', 4: 'n', 5: 'o', 6: 'p', 7: 'w', 8: 'y'}, {0: 'b', 1: 'c', 2: 'e', 3: 'g', 4: 'n', 5: 'o', 6: 'p', 7: 'w', 8: 'y'}, {0: 'p'}, {0: 'n', 1: 'o', 2: 'w', 3: 'y'}, {0: 'n', 1: 'o', 2: 't'}, {0: 'e', 1: 'f', 2: 'l', 3: 'n', 4: 'p'}]\n",
      "[{0: 'e', 1: 'p'}, {0: 'b', 1: 'c', 2: 'f', 3: 'k', 4: 's', 5: 'x'}, {0: 'f', 1: 'g', 2: 's', 3: 'y'}, {0: 'b', 1: 'c', 2: 'e', 3: 'g', 4: 'n', 5: 'p', 6: 'r', 7: 'u', 8: 'w', 9: 'y'}, {0: 'f', 1: 't'}, {0: 'a', 1: 'c', 2: 'f', 3: 'l', 4: 'm', 5: 'n', 6: 'p', 7: 's', 8: 'y'}, {0: 'a', 1: 'f'}, {0: 'c', 1: 'w'}, {0: 'b', 1: 'n'}, {0: 'b', 1: 'e', 2: 'g', 3: 'h', 4: 'k', 5: 'n', 6: 'o', 7: 'p', 8: 'r', 9: 'u', 10: 'w', 11: 'y'}, {0: 'e', 1: 't'}, {0: '?', 1: 'b', 2: 'c', 3: 'e', 4: 'r'}, {0: 'f', 1: 'k', 2: 's', 3: 'y'}, {0: 'f', 1: 'k', 2: 's', 3: 'y'}, {0: 'b', 1: 'c', 2: 'e', 3: 'g', 4: 'n', 5: 'o', 6: 'p', 7: 'w', 8: 'y'}, {0: 'b', 1: 'c', 2: 'e', 3: 'g', 4: 'n', 5: 'o', 6: 'p', 7: 'w', 8: 'y'}, {0: 'p'}, {0: 'n', 1: 'o', 2: 'w', 3: 'y'}, {0: 'n', 1: 'o', 2: 't'}, {0: 'e', 1: 'f', 2: 'l', 3: 'n', 4: 'p'}, {0: 'b', 1: 'h', 2: 'k', 3: 'n', 4: 'o', 5: 'r', 6: 'u', 7: 'w', 8: 'y'}]\n",
      "[{0: 'e', 1: 'p'}, {0: 'b', 1: 'c', 2: 'f', 3: 'k', 4: 's', 5: 'x'}, {0: 'f', 1: 'g', 2: 's', 3: 'y'}, {0: 'b', 1: 'c', 2: 'e', 3: 'g', 4: 'n', 5: 'p', 6: 'r', 7: 'u', 8: 'w', 9: 'y'}, {0: 'f', 1: 't'}, {0: 'a', 1: 'c', 2: 'f', 3: 'l', 4: 'm', 5: 'n', 6: 'p', 7: 's', 8: 'y'}, {0: 'a', 1: 'f'}, {0: 'c', 1: 'w'}, {0: 'b', 1: 'n'}, {0: 'b', 1: 'e', 2: 'g', 3: 'h', 4: 'k', 5: 'n', 6: 'o', 7: 'p', 8: 'r', 9: 'u', 10: 'w', 11: 'y'}, {0: 'e', 1: 't'}, {0: '?', 1: 'b', 2: 'c', 3: 'e', 4: 'r'}, {0: 'f', 1: 'k', 2: 's', 3: 'y'}, {0: 'f', 1: 'k', 2: 's', 3: 'y'}, {0: 'b', 1: 'c', 2: 'e', 3: 'g', 4: 'n', 5: 'o', 6: 'p', 7: 'w', 8: 'y'}, {0: 'b', 1: 'c', 2: 'e', 3: 'g', 4: 'n', 5: 'o', 6: 'p', 7: 'w', 8: 'y'}, {0: 'p'}, {0: 'n', 1: 'o', 2: 'w', 3: 'y'}, {0: 'n', 1: 'o', 2: 't'}, {0: 'e', 1: 'f', 2: 'l', 3: 'n', 4: 'p'}, {0: 'b', 1: 'h', 2: 'k', 3: 'n', 4: 'o', 5: 'r', 6: 'u', 7: 'w', 8: 'y'}, {0: 'a', 1: 'c', 2: 'n', 3: 's', 4: 'v', 5: 'y'}]\n",
      "[{0: 'e', 1: 'p'}, {0: 'b', 1: 'c', 2: 'f', 3: 'k', 4: 's', 5: 'x'}, {0: 'f', 1: 'g', 2: 's', 3: 'y'}, {0: 'b', 1: 'c', 2: 'e', 3: 'g', 4: 'n', 5: 'p', 6: 'r', 7: 'u', 8: 'w', 9: 'y'}, {0: 'f', 1: 't'}, {0: 'a', 1: 'c', 2: 'f', 3: 'l', 4: 'm', 5: 'n', 6: 'p', 7: 's', 8: 'y'}, {0: 'a', 1: 'f'}, {0: 'c', 1: 'w'}, {0: 'b', 1: 'n'}, {0: 'b', 1: 'e', 2: 'g', 3: 'h', 4: 'k', 5: 'n', 6: 'o', 7: 'p', 8: 'r', 9: 'u', 10: 'w', 11: 'y'}, {0: 'e', 1: 't'}, {0: '?', 1: 'b', 2: 'c', 3: 'e', 4: 'r'}, {0: 'f', 1: 'k', 2: 's', 3: 'y'}, {0: 'f', 1: 'k', 2: 's', 3: 'y'}, {0: 'b', 1: 'c', 2: 'e', 3: 'g', 4: 'n', 5: 'o', 6: 'p', 7: 'w', 8: 'y'}, {0: 'b', 1: 'c', 2: 'e', 3: 'g', 4: 'n', 5: 'o', 6: 'p', 7: 'w', 8: 'y'}, {0: 'p'}, {0: 'n', 1: 'o', 2: 'w', 3: 'y'}, {0: 'n', 1: 'o', 2: 't'}, {0: 'e', 1: 'f', 2: 'l', 3: 'n', 4: 'p'}, {0: 'b', 1: 'h', 2: 'k', 3: 'n', 4: 'o', 5: 'r', 6: 'u', 7: 'w', 8: 'y'}, {0: 'a', 1: 'c', 2: 'n', 3: 's', 4: 'v', 5: 'y'}, {0: 'd', 1: 'g', 2: 'l', 3: 'm', 4: 'p', 5: 'u', 6: 'w'}]\n"
     ]
    }
   ],
   "source": [
    "mappings = list()\n",
    "encoder = LabelEncoder()\n",
    "\n",
    "for column in range(len(data.columns)):\n",
    "    data[data.columns[column]] = encoder.fit_transform(data[data.columns[column]])\n",
    "    mappings_dict = {index: label for index, label in enumerate(encoder.classes_)}\n",
    "    mappings.append(mappings_dict)\n",
    "    print(mappings)"
   ]
  },
  {
   "cell_type": "code",
   "execution_count": 18,
   "metadata": {},
   "outputs": [
    {
     "name": "stdout",
     "output_type": "stream",
     "text": [
      "      cap-shape  cap-surface  cap-color   bruises      odor  gill-attachment  \\\n",
      "0      1.029712     0.140128  -0.198250  1.185917  0.881938         0.162896   \n",
      "1      1.029712     0.140128   1.765874  1.185917 -1.970316         0.162896   \n",
      "2     -2.087047     0.140128   1.373049  1.185917 -0.544189         0.162896   \n",
      "3      1.029712     0.953270   1.373049  1.185917  0.881938         0.162896   \n",
      "4      1.029712     0.140128  -0.591075 -0.843230  0.406562         0.162896   \n",
      "...         ...          ...        ...       ...       ...              ...   \n",
      "8119  -0.216992     0.140128  -0.198250 -0.843230  0.406562        -6.138869   \n",
      "8120   1.029712     0.140128  -0.198250 -0.843230  0.406562        -6.138869   \n",
      "8121  -0.840343     0.140128  -0.198250 -0.843230  0.406562        -6.138869   \n",
      "8122  -0.216992     0.953270  -0.198250 -0.843230  1.832689         0.162896   \n",
      "8123   1.029712     0.140128  -0.198250 -0.843230  0.406562        -6.138869   \n",
      "\n",
      "      gill-spacing  gill-size  gill-color  stalk-shape  ...  \\\n",
      "0        -0.438864   1.494683   -0.228998    -1.144806  ...   \n",
      "1        -0.438864  -0.669038   -0.228998    -1.144806  ...   \n",
      "2        -0.438864  -0.669038    0.053477    -1.144806  ...   \n",
      "3        -0.438864   1.494683    0.053477    -1.144806  ...   \n",
      "4         2.278612  -0.669038   -0.228998     0.873511  ...   \n",
      "...            ...        ...         ...          ...  ...   \n",
      "8119     -0.438864  -0.669038    1.748325    -1.144806  ...   \n",
      "8120     -0.438864  -0.669038    1.748325    -1.144806  ...   \n",
      "8121     -0.438864  -0.669038    0.053477    -1.144806  ...   \n",
      "8122     -0.438864   1.494683   -1.358896     0.873511  ...   \n",
      "8123     -0.438864  -0.669038    1.748325    -1.144806  ...   \n",
      "\n",
      "      stalk-surface-below-ring  stalk-color-above-ring  \\\n",
      "0                     0.586385                0.622441   \n",
      "1                     0.586385                0.622441   \n",
      "2                     0.586385                0.622441   \n",
      "3                     0.586385                0.622441   \n",
      "4                     0.586385                0.622441   \n",
      "...                        ...                     ...   \n",
      "8119                  0.586385               -0.429288   \n",
      "8120                  0.586385               -0.429288   \n",
      "8121                  0.586385               -0.429288   \n",
      "8122                 -0.893053                0.622441   \n",
      "8123                  0.586385               -0.429288   \n",
      "\n",
      "      stalk-color-below-ring  veil-type  veil-color  ring-number  ring-type  \\\n",
      "0                   0.631991        0.0    0.142037    -0.256132   0.948081   \n",
      "1                   0.631991        0.0    0.142037    -0.256132   0.948081   \n",
      "2                   0.631991        0.0    0.142037    -0.256132   0.948081   \n",
      "3                   0.631991        0.0    0.142037    -0.256132   0.948081   \n",
      "4                   0.631991        0.0    0.142037    -0.256132  -1.272216   \n",
      "...                      ...        ...         ...          ...        ...   \n",
      "8119               -0.416681        0.0   -3.979055    -0.256132   0.948081   \n",
      "8120               -0.416681        0.0   -8.100146    -0.256132   0.948081   \n",
      "8121               -0.416681        0.0   -3.979055    -0.256132   0.948081   \n",
      "8122                0.631991        0.0    0.142037    -0.256132  -1.272216   \n",
      "8123               -0.416681        0.0   -3.979055    -0.256132   0.948081   \n",
      "\n",
      "      spore-print-color  population   habitat  \n",
      "0             -0.670195   -0.514389  2.030028  \n",
      "1             -0.250471   -1.313108 -0.295730  \n",
      "2             -0.250471   -1.313108  0.867149  \n",
      "3             -0.670195   -0.514389  2.030028  \n",
      "4             -0.250471   -2.910546 -0.295730  \n",
      "...                 ...         ...       ...  \n",
      "8119          -1.509643   -2.111827  0.285710  \n",
      "8120          -1.509643    0.284330  0.285710  \n",
      "8121          -1.509643   -2.111827  0.285710  \n",
      "8122           1.428426    0.284330  0.285710  \n",
      "8123           0.169254   -2.111827  0.285710  \n",
      "\n",
      "[8124 rows x 22 columns]\n"
     ]
    }
   ],
   "source": [
    "y = data['class']\n",
    "X = data.drop('class', axis=1)\n",
    "scaler = StandardScaler()\n",
    "\n",
    "X = pd.DataFrame(scaler.fit_transform(X), columns=X.columns)\n",
    "\n",
    "print(X)"
   ]
  },
  {
   "cell_type": "code",
   "execution_count": 19,
   "metadata": {},
   "outputs": [
    {
     "data": {
      "text/plain": [
       "DecisionTreeClassifier(max_depth=8, random_state=2)"
      ]
     },
     "execution_count": 19,
     "metadata": {},
     "output_type": "execute_result"
    }
   ],
   "source": [
    "X_train, X_test, y_train, y_test = train_test_split(X, y, train_size=0.8)\n",
    "from sklearn.tree import DecisionTreeClassifier\n",
    "\n",
    "dt = DecisionTreeClassifier(max_depth=8, random_state=2)\n",
    "dt.fit(X_train, y_train)\n",
    "dt.fit(X_train, y_train)"
   ]
  },
  {
   "cell_type": "code",
   "execution_count": 20,
   "metadata": {},
   "outputs": [
    {
     "data": {
      "text/plain": [
       "0.48202855736090594"
      ]
     },
     "execution_count": 20,
     "metadata": {},
     "output_type": "execute_result"
    }
   ],
   "source": [
    "from sklearn.linear_model import LogisticRegression\n",
    "from sklearn.svm import SVC\n",
    "from sklearn.neural_network import MLPClassifier\n",
    "\n",
    "log_model = LogisticRegression()\n",
    "svm_model = SVC(C=1.0, kernel='rbf')\n",
    "nn_model = MLPClassifier(hidden_layer_sizes=(128, 128))\n",
    "\n",
    "np.sum(y) / len(y)"
   ]
  },
  {
   "cell_type": "code",
   "execution_count": 21,
   "metadata": {},
   "outputs": [
    {
     "data": {
      "text/plain": [
       "MLPClassifier(hidden_layer_sizes=(128, 128))"
      ]
     },
     "execution_count": 21,
     "metadata": {},
     "output_type": "execute_result"
    }
   ],
   "source": [
    "log_model.fit(X_train, y_train)\n",
    "svm_model.fit(X_train, y_train)\n",
    "nn_model.fit(X_train, y_train)"
   ]
  },
  {
   "cell_type": "code",
   "execution_count": 25,
   "metadata": {},
   "outputs": [
    {
     "name": "stdout",
     "output_type": "stream",
     "text": [
      "Logistic Regression     : 0.9538461538461539\n",
      "Support Vector Machine  : 1.0\n",
      "Neural Network          : 1.0\n",
      "Metrics Acc             : 1.00\n"
     ]
    }
   ],
   "source": [
    "from sklearn.metrics import accuracy_score\n",
    "\n",
    "y_pred = dt.predict(X_test)\n",
    "acc = accuracy_score(y_test, y_pred)\n",
    "\n",
    "print(f\"Logistic Regression     : {log_model.score(X_test, y_test)}\")\n",
    "print(f\"Support Vector Machine  : {svm_model.score(X_test, y_test)}\")\n",
    "print(f\"Neural Network          : {nn_model.score(X_test, y_test)}\")\n",
    "print(\"Metrics Acc             : {:.2f}\".format(acc))"
   ]
  },
  {
   "cell_type": "code",
   "execution_count": 26,
   "metadata": {},
   "outputs": [
    {
     "data": {
      "text/plain": [
       "<AxesSubplot:>"
      ]
     },
     "execution_count": 26,
     "metadata": {},
     "output_type": "execute_result"
    },
    {
     "data": {
      "image/png": "[encoded data removed]",
      "text/plain": [
       "<Figure size 432x288 with 2 Axes>"
      ]
     },
     "metadata": {
      "needs_background": "light"
     },
     "output_type": "display_data"
    }
   ],
   "source": [
    "X_test.shape\n",
    "\n",
    "corr = data.corr()\n",
    "\n",
    "sns.heatmap(corr)"
   ]
  },
  {
   "cell_type": "code",
   "execution_count": null,
   "metadata": {},
   "outputs": [],
   "source": []
  }
 ],
 "metadata": {
  "kernelspec": {
   "display_name": "Python 3.9.12 ('base')",
   "language": "python",
   "name": "python3"
  },
  "language_info": {
   "codemirror_mode": {
    "name": "ipython",
    "version": 3
   },
   "file_extension": ".py",
   "mimetype": "text/x-python",
   "name": "python",
   "nbconvert_exporter": "python",
   "pygments_lexer": "ipython3",
   "version": "3.9.12"
  },
  "orig_nbformat": 4,
  "vscode": {
   "interpreter": {
    "hash": "a90aeebcf29d64a654773811cc170cb25061cb2498f10ac689db374c7bf325de"
   }
  }
 },
 "nbformat": 4,
 "nbformat_minor": 2
}
